{
 "cells": [
  {
   "metadata": {},
   "cell_type": "markdown",
   "source": [
    "# This is a sample Jupyter Notebook\n",
    "\n",
    "Below is an example of a code cell. \n",
    "Put your cursor into the cell and press Shift+Enter to execute it and select the next one, or click 'Run Cell' button.\n",
    "\n",
    "Press Double Shift to search everywhere for classes, files, tool windows, actions, and settings.\n",
    "\n",
    "To learn more about Jupyter Notebooks in PyCharm, see [help](https://www.jetbrains.com/help/pycharm/ipython-notebook-support.html).\n",
    "For an overview of PyCharm, go to Help -> Learn IDE features or refer to [our documentation](https://www.jetbrains.com/help/pycharm/getting-started.html)."
   ],
   "id": "8a77807f92f26ee"
  },
  {
   "metadata": {
    "ExecuteTime": {
     "end_time": "2024-10-31T23:32:12.425627Z",
     "start_time": "2024-10-31T23:32:09.729513Z"
    }
   },
   "cell_type": "code",
   "source": [
    "import musdb\n",
    "import numpy as np\n",
    "from scipy.io import wavfile\n",
    "import matplotlib.pyplot as plt \n",
    "import tensorflow as tf\n",
    "import keras\n"
   ],
   "id": "fbc121e30a2defb3",
   "outputs": [],
   "execution_count": 1
  },
  {
   "metadata": {
    "ExecuteTime": {
     "end_time": "2024-10-31T23:32:12.430887Z",
     "start_time": "2024-10-31T23:32:12.428988Z"
    }
   },
   "cell_type": "code",
   "source": [
    "# mus_train = musdb.DB(root=\"musdb18\", subsets=\"train\")\n",
    "# mus_test = musdb.DB(root=\"musdb18\", subsets=\"test\")"
   ],
   "id": "91ca5582c078f4de",
   "outputs": [],
   "execution_count": 2
  },
  {
   "metadata": {},
   "cell_type": "markdown",
   "source": "### Fetch audio tracks' name",
   "id": "81a10bf9d0b5cdb8"
  },
  {
   "metadata": {
    "ExecuteTime": {
     "end_time": "2024-10-31T23:32:12.468831Z",
     "start_time": "2024-10-31T23:32:12.467382Z"
    }
   },
   "cell_type": "code",
   "source": [
    "# train_name = mus_train.tracks\n",
    "# test_name = mus_test.tracks\n",
    "# \n",
    "# train_name = [str(i) for i in train_name]\n",
    "# test_name = [str(i) for i in test_name]"
   ],
   "id": "955fa297783a763c",
   "outputs": [],
   "execution_count": 3
  },
  {
   "metadata": {
    "ExecuteTime": {
     "end_time": "2024-10-31T23:32:12.474317Z",
     "start_time": "2024-10-31T23:32:12.472953Z"
    }
   },
   "cell_type": "code",
   "source": [
    "# f1 = open(\"train_track_names.txt\", 'w')\n",
    "# f2 = open(\"test_track_names.txt\", 'w')\n",
    "# \n",
    "# f1.write(\"|\".join(train_name))\n",
    "# f2.write(\"|\".join(test_name))\n",
    "# \n",
    "# f1.close()\n",
    "# f2.close()"
   ],
   "id": "4a561a28ffaee471",
   "outputs": [],
   "execution_count": 4
  },
  {
   "metadata": {
    "ExecuteTime": {
     "end_time": "2024-10-31T23:32:12.480689Z",
     "start_time": "2024-10-31T23:32:12.478490Z"
    }
   },
   "cell_type": "code",
   "source": [
    "f_train_name = open(\"train_track_names.txt\", 'r')\n",
    "f_test_name = open(\"test_track_names.txt\", 'r')\n",
    "\n",
    "train_name = f_train_name.readline().split('|')\n",
    "test_name = f_test_name.readline().split('|')"
   ],
   "id": "37da5fe87707ca61",
   "outputs": [],
   "execution_count": 5
  },
  {
   "metadata": {},
   "cell_type": "markdown",
   "source": "### Prepare dataset",
   "id": "71881eb0e8aa5aac"
  },
  {
   "metadata": {
    "ExecuteTime": {
     "end_time": "2024-10-31T23:32:13.887730Z",
     "start_time": "2024-10-31T23:32:13.885850Z"
    }
   },
   "cell_type": "code",
   "source": [
    "fs = 44100\n",
    "window_len = 44100\n",
    "num_bits = 16 # musdb18 dataset encodes the audio as 44.1k Hz 16-bit"
   ],
   "id": "19c53fad5b2d3041",
   "outputs": [],
   "execution_count": 6
  },
  {
   "metadata": {},
   "cell_type": "markdown",
   "source": "Each data sample is a 4-second audio clip.  We split every audio track in the train folder and the first 30 tracks in the test folder into 4-second audio windows.  The windows that are less than 4 seconds at the end of each track are discarded.",
   "id": "c3f9139685baa21d"
  },
  {
   "metadata": {
    "ExecuteTime": {
     "end_time": "2024-10-31T23:32:15.947947Z",
     "start_time": "2024-10-31T23:32:15.946389Z"
    }
   },
   "cell_type": "code",
   "source": "",
   "id": "4b3760eab56420dd",
   "outputs": [],
   "execution_count": null
  },
  {
   "metadata": {
    "ExecuteTime": {
     "end_time": "2024-10-31T23:32:19.147310Z",
     "start_time": "2024-10-31T23:32:16.830753Z"
    }
   },
   "cell_type": "code",
   "source": [
    "# Count the number of samples (4-second window)\n",
    "num_samples = 0\n",
    "\n",
    "for i in range(len(train_name)):\n",
    "    _, audio_mixture = wavfile.read(\"train/\"+str(train_name[i])+\"/linear_mixture.wav\")\n",
    "    _, vocals = wavfile.read(\"train/\"+str(train_name[i])+\"/vocals.wav\")\n",
    "    \n",
    "    num_samples += len(audio_mixture) // window_len * 2\n",
    "    \n",
    "for i in range(30):\n",
    "    _, audio_mixture = wavfile.read(\"test/\"+str(test_name[i])+\"/linear_mixture.wav\")\n",
    "    _, vocals = wavfile.read(\"test/\"+str(test_name[i])+\"/vocals.wav\")\n",
    "\n",
    "    num_samples += len(audio_mixture) // window_len * 2 "
   ],
   "id": "aab92e22b45e5aa0",
   "outputs": [],
   "execution_count": 7
  },
  {
   "metadata": {
    "ExecuteTime": {
     "end_time": "2024-10-31T23:32:19.158657Z",
     "start_time": "2024-10-31T23:32:19.155126Z"
    }
   },
   "cell_type": "code",
   "source": "num_samples",
   "id": "41a75333e8027c9f",
   "outputs": [
    {
     "data": {
      "text/plain": [
       "60052"
      ]
     },
     "execution_count": 8,
     "metadata": {},
     "output_type": "execute_result"
    }
   ],
   "execution_count": 8
  },
  {
   "metadata": {
    "ExecuteTime": {
     "end_time": "2024-10-31T23:32:21.469606Z",
     "start_time": "2024-10-31T23:32:21.466786Z"
    }
   },
   "cell_type": "code",
   "source": [
    "X_train = np.zeros((num_samples, window_len))\n",
    "Y_train = np.zeros((num_samples, window_len))"
   ],
   "id": "11be423af6c548de",
   "outputs": [],
   "execution_count": 9
  },
  {
   "metadata": {
    "ExecuteTime": {
     "end_time": "2024-10-31T23:32:34.977566Z",
     "start_time": "2024-10-31T23:32:22.503384Z"
    }
   },
   "cell_type": "code",
   "source": [
    "# Construct samples using the tracks in \"/train\"\n",
    "count = 0\n",
    "\n",
    "for i in range(len(train_name)):\n",
    "    _, audio_mixture = wavfile.read(\"train/\"+str(train_name[i])+\"/linear_mixture.wav\")\n",
    "    _, vocals = wavfile.read(\"train/\"+str(train_name[i])+\"/vocals.wav\")\n",
    "    \n",
    "    num_frame = len(audio_mixture) // window_len\n",
    "    \n",
    "    for j in range(num_frame):\n",
    "        # normalize the audio\n",
    "        X_train[count, :] = audio_mixture[j*window_len:j*window_len+window_len, 0] / 2**num_bits # left channel\n",
    "        X_train[count + 1, :] = audio_mixture[j*window_len:j*window_len+window_len, 1]  / 2**num_bits # right channel\n",
    "        Y_train[count, :] = vocals[j*window_len:j*window_len+window_len, 0]  / 2**num_bits # left channel\n",
    "        Y_train[count + 1, :] = vocals[j*window_len:j*window_len+window_len, 1]  / 2**num_bits # right channel\n",
    "        count += 2\n",
    "        \n",
    "# We will use 30 out of 50 samples from the test folder as training samples\n",
    "for i in range(30):\n",
    "    _, audio_mixture = wavfile.read(\"test/\"+str(test_name[i])+\"/linear_mixture.wav\")\n",
    "    _, vocals = wavfile.read(\"test/\"+str(test_name[i])+\"/vocals.wav\")\n",
    "\n",
    "    num_frame = len(audio_mixture) // window_len\n",
    "\n",
    "    for j in range(num_frame):\n",
    "        # normalize the audio\n",
    "        X_train[count, :] = audio_mixture[j*window_len:j*window_len+window_len, 0]  / 2**num_bits # left channel\n",
    "        X_train[count + 1, :] = audio_mixture[j*window_len:j*window_len+window_len, 1]  / 2**num_bits # right channel\n",
    "        Y_train[count, :] = vocals[j*window_len:j*window_len+window_len, 0]  / 2**num_bits # left channel\n",
    "        Y_train[count + 1, :] = vocals[j*window_len:j*window_len+window_len, 1]  / 2**num_bits # right channel\n",
    "        count += 2"
   ],
   "id": "35cb8bf7b3f3939e",
   "outputs": [],
   "execution_count": 10
  },
  {
   "metadata": {
    "ExecuteTime": {
     "end_time": "2024-10-31T23:32:34.995112Z",
     "start_time": "2024-10-31T23:32:34.989930Z"
    }
   },
   "cell_type": "code",
   "source": "X_train.shape",
   "id": "9d0d776b58ed199f",
   "outputs": [
    {
     "data": {
      "text/plain": [
       "(60052, 44100)"
      ]
     },
     "execution_count": 11,
     "metadata": {},
     "output_type": "execute_result"
    }
   ],
   "execution_count": 11
  },
  {
   "metadata": {},
   "cell_type": "markdown",
   "source": "Baseline model - it's a sequential model consisting of fully connected layers",
   "id": "265cf282b3c8c6e6"
  },
  {
   "metadata": {
    "ExecuteTime": {
     "end_time": "2024-10-31T23:32:54.229887Z",
     "start_time": "2024-10-31T23:32:38.017777Z"
    }
   },
   "cell_type": "code",
   "source": [
    "baseline_model = tf.keras.Sequential([\n",
    "    tf.keras.Input(shape=(44100,)),\n",
    "    tf.keras.layers.Dense(30000, activation='relu'),\n",
    "    tf.keras.layers.Dense(16800, activation='relu'),\n",
    "    tf.keras.layers.Dense(30000, activation='relu'),\n",
    "    tf.keras.layers.Dense(44100)\n",
    "])"
   ],
   "id": "1356e399204a9bd2",
   "outputs": [],
   "execution_count": 12
  },
  {
   "metadata": {
    "jupyter": {
     "is_executing": true
    },
    "ExecuteTime": {
     "start_time": "2024-10-31T15:04:21.832608Z"
    }
   },
   "cell_type": "code",
   "source": [
    "# baseline_model = tf.keras.Sequential([\n",
    "#     tf.keras.Input(shape=(176400,)),\n",
    "#     tf.keras.layers.Dense(146200, activation='relu'),\n",
    "#     tf.keras.layers.Dense(88200, activation='relu'),\n",
    "#     tf.keras.layers.Dense(120000, activation='relu'),\n",
    "#     tf.keras.layers.Dense(176400)\n",
    "# ])"
   ],
   "id": "1cc80031c38cbc32",
   "outputs": [],
   "execution_count": null
  },
  {
   "metadata": {
    "ExecuteTime": {
     "end_time": "2024-10-31T23:33:49.053627Z",
     "start_time": "2024-10-31T23:33:49.031505Z"
    }
   },
   "cell_type": "code",
   "source": "baseline_model.compile(optimizer=\"adam\", loss=\"mae\", metrics=[\"mae\"])",
   "id": "4958a00369f13dc6",
   "outputs": [],
   "execution_count": 13
  },
  {
   "metadata": {
    "ExecuteTime": {
     "end_time": "2024-10-31T23:33:50.385476Z",
     "start_time": "2024-10-31T23:33:50.357576Z"
    }
   },
   "cell_type": "code",
   "source": "baseline_model.summary()",
   "id": "58a50f621ac0c50d",
   "outputs": [
    {
     "data": {
      "text/plain": [
       "\u001B[1mModel: \"sequential\"\u001B[0m\n"
      ],
      "text/html": [
       "<pre style=\"white-space:pre;overflow-x:auto;line-height:normal;font-family:Menlo,'DejaVu Sans Mono',consolas,'Courier New',monospace\"><span style=\"font-weight: bold\">Model: \"sequential\"</span>\n",
       "</pre>\n"
      ]
     },
     "metadata": {},
     "output_type": "display_data"
    },
    {
     "data": {
      "text/plain": [
       "┏━━━━━━━━━━━━━━━━━━━━━━━━━━━━━━━━━┳━━━━━━━━━━━━━━━━━━━━━━━━┳━━━━━━━━━━━━━━━┓\n",
       "┃\u001B[1m \u001B[0m\u001B[1mLayer (type)                   \u001B[0m\u001B[1m \u001B[0m┃\u001B[1m \u001B[0m\u001B[1mOutput Shape          \u001B[0m\u001B[1m \u001B[0m┃\u001B[1m \u001B[0m\u001B[1m      Param #\u001B[0m\u001B[1m \u001B[0m┃\n",
       "┡━━━━━━━━━━━━━━━━━━━━━━━━━━━━━━━━━╇━━━━━━━━━━━━━━━━━━━━━━━━╇━━━━━━━━━━━━━━━┩\n",
       "│ dense (\u001B[38;5;33mDense\u001B[0m)                   │ (\u001B[38;5;45mNone\u001B[0m, \u001B[38;5;34m30000\u001B[0m)          │ \u001B[38;5;34m1,323,030,000\u001B[0m │\n",
       "├─────────────────────────────────┼────────────────────────┼───────────────┤\n",
       "│ dense_1 (\u001B[38;5;33mDense\u001B[0m)                 │ (\u001B[38;5;45mNone\u001B[0m, \u001B[38;5;34m16800\u001B[0m)          │   \u001B[38;5;34m504,016,800\u001B[0m │\n",
       "├─────────────────────────────────┼────────────────────────┼───────────────┤\n",
       "│ dense_2 (\u001B[38;5;33mDense\u001B[0m)                 │ (\u001B[38;5;45mNone\u001B[0m, \u001B[38;5;34m30000\u001B[0m)          │   \u001B[38;5;34m504,030,000\u001B[0m │\n",
       "├─────────────────────────────────┼────────────────────────┼───────────────┤\n",
       "│ dense_3 (\u001B[38;5;33mDense\u001B[0m)                 │ (\u001B[38;5;45mNone\u001B[0m, \u001B[38;5;34m44100\u001B[0m)          │ \u001B[38;5;34m1,323,044,100\u001B[0m │\n",
       "└─────────────────────────────────┴────────────────────────┴───────────────┘\n"
      ],
      "text/html": [
       "<pre style=\"white-space:pre;overflow-x:auto;line-height:normal;font-family:Menlo,'DejaVu Sans Mono',consolas,'Courier New',monospace\">┏━━━━━━━━━━━━━━━━━━━━━━━━━━━━━━━━━┳━━━━━━━━━━━━━━━━━━━━━━━━┳━━━━━━━━━━━━━━━┓\n",
       "┃<span style=\"font-weight: bold\"> Layer (type)                    </span>┃<span style=\"font-weight: bold\"> Output Shape           </span>┃<span style=\"font-weight: bold\">       Param # </span>┃\n",
       "┡━━━━━━━━━━━━━━━━━━━━━━━━━━━━━━━━━╇━━━━━━━━━━━━━━━━━━━━━━━━╇━━━━━━━━━━━━━━━┩\n",
       "│ dense (<span style=\"color: #0087ff; text-decoration-color: #0087ff\">Dense</span>)                   │ (<span style=\"color: #00d7ff; text-decoration-color: #00d7ff\">None</span>, <span style=\"color: #00af00; text-decoration-color: #00af00\">30000</span>)          │ <span style=\"color: #00af00; text-decoration-color: #00af00\">1,323,030,000</span> │\n",
       "├─────────────────────────────────┼────────────────────────┼───────────────┤\n",
       "│ dense_1 (<span style=\"color: #0087ff; text-decoration-color: #0087ff\">Dense</span>)                 │ (<span style=\"color: #00d7ff; text-decoration-color: #00d7ff\">None</span>, <span style=\"color: #00af00; text-decoration-color: #00af00\">16800</span>)          │   <span style=\"color: #00af00; text-decoration-color: #00af00\">504,016,800</span> │\n",
       "├─────────────────────────────────┼────────────────────────┼───────────────┤\n",
       "│ dense_2 (<span style=\"color: #0087ff; text-decoration-color: #0087ff\">Dense</span>)                 │ (<span style=\"color: #00d7ff; text-decoration-color: #00d7ff\">None</span>, <span style=\"color: #00af00; text-decoration-color: #00af00\">30000</span>)          │   <span style=\"color: #00af00; text-decoration-color: #00af00\">504,030,000</span> │\n",
       "├─────────────────────────────────┼────────────────────────┼───────────────┤\n",
       "│ dense_3 (<span style=\"color: #0087ff; text-decoration-color: #0087ff\">Dense</span>)                 │ (<span style=\"color: #00d7ff; text-decoration-color: #00d7ff\">None</span>, <span style=\"color: #00af00; text-decoration-color: #00af00\">44100</span>)          │ <span style=\"color: #00af00; text-decoration-color: #00af00\">1,323,044,100</span> │\n",
       "└─────────────────────────────────┴────────────────────────┴───────────────┘\n",
       "</pre>\n"
      ]
     },
     "metadata": {},
     "output_type": "display_data"
    },
    {
     "data": {
      "text/plain": [
       "\u001B[1m Total params: \u001B[0m\u001B[38;5;34m3,654,120,900\u001B[0m (13.61 GB)\n"
      ],
      "text/html": [
       "<pre style=\"white-space:pre;overflow-x:auto;line-height:normal;font-family:Menlo,'DejaVu Sans Mono',consolas,'Courier New',monospace\"><span style=\"font-weight: bold\"> Total params: </span><span style=\"color: #00af00; text-decoration-color: #00af00\">3,654,120,900</span> (13.61 GB)\n",
       "</pre>\n"
      ]
     },
     "metadata": {},
     "output_type": "display_data"
    },
    {
     "data": {
      "text/plain": [
       "\u001B[1m Trainable params: \u001B[0m\u001B[38;5;34m3,654,120,900\u001B[0m (13.61 GB)\n"
      ],
      "text/html": [
       "<pre style=\"white-space:pre;overflow-x:auto;line-height:normal;font-family:Menlo,'DejaVu Sans Mono',consolas,'Courier New',monospace\"><span style=\"font-weight: bold\"> Trainable params: </span><span style=\"color: #00af00; text-decoration-color: #00af00\">3,654,120,900</span> (13.61 GB)\n",
       "</pre>\n"
      ]
     },
     "metadata": {},
     "output_type": "display_data"
    },
    {
     "data": {
      "text/plain": [
       "\u001B[1m Non-trainable params: \u001B[0m\u001B[38;5;34m0\u001B[0m (0.00 B)\n"
      ],
      "text/html": [
       "<pre style=\"white-space:pre;overflow-x:auto;line-height:normal;font-family:Menlo,'DejaVu Sans Mono',consolas,'Courier New',monospace\"><span style=\"font-weight: bold\"> Non-trainable params: </span><span style=\"color: #00af00; text-decoration-color: #00af00\">0</span> (0.00 B)\n",
       "</pre>\n"
      ]
     },
     "metadata": {},
     "output_type": "display_data"
    }
   ],
   "execution_count": 14
  },
  {
   "metadata": {
    "jupyter": {
     "is_executing": true
    },
    "ExecuteTime": {
     "start_time": "2024-10-31T23:34:15.361622Z"
    }
   },
   "cell_type": "code",
   "source": "baseline_model.fit(X_train, Y_train, batch_size=64, epochs=10)",
   "id": "544d59bc97a90f5c",
   "outputs": [],
   "execution_count": null
  },
  {
   "metadata": {},
   "cell_type": "code",
   "outputs": [],
   "execution_count": null,
   "source": "",
   "id": "acff2cbcddd4fcff"
  },
  {
   "metadata": {},
   "cell_type": "code",
   "outputs": [],
   "execution_count": null,
   "source": "",
   "id": "6309223b114e535b"
  },
  {
   "metadata": {},
   "cell_type": "code",
   "outputs": [],
   "execution_count": null,
   "source": "",
   "id": "67d1d2cc7147ba7a"
  },
  {
   "metadata": {},
   "cell_type": "code",
   "outputs": [],
   "execution_count": null,
   "source": "",
   "id": "cf18c88209a3b32c"
  },
  {
   "metadata": {},
   "cell_type": "code",
   "outputs": [],
   "execution_count": null,
   "source": "",
   "id": "2b77b339218f316"
  },
  {
   "metadata": {
    "ExecuteTime": {
     "end_time": "2024-10-31T08:36:28.087182Z",
     "start_time": "2024-10-31T08:36:28.084902Z"
    }
   },
   "cell_type": "code",
   "source": "# fs",
   "id": "e2ee4fc90263b68c",
   "outputs": [
    {
     "data": {
      "text/plain": [
       "44100"
      ]
     },
     "execution_count": 25,
     "metadata": {},
     "output_type": "execute_result"
    }
   ],
   "execution_count": 25
  },
  {
   "metadata": {
    "ExecuteTime": {
     "end_time": "2024-10-31T08:39:52.305678Z",
     "start_time": "2024-10-31T08:39:52.302838Z"
    }
   },
   "cell_type": "code",
   "source": "# len(song1[:, 0]) / (44100*4)",
   "id": "ca48afa63b4d3006",
   "outputs": [
    {
     "data": {
      "text/plain": [
       "42.811791383219955"
      ]
     },
     "execution_count": 32,
     "metadata": {},
     "output_type": "execute_result"
    }
   ],
   "execution_count": 32
  },
  {
   "metadata": {
    "ExecuteTime": {
     "end_time": "2024-10-24T12:24:26.250084Z",
     "start_time": "2024-10-24T12:24:26.244739Z"
    }
   },
   "cell_type": "code",
   "source": [
    "# count = 0\n",
    "# \n",
    "# for track in mus_train:\n",
    "#     count += 1\n",
    "#     print(track.name)\n",
    "#     \n",
    "# print(count)"
   ],
   "id": "c094f0911155bccf",
   "outputs": [
    {
     "name": "stdout",
     "output_type": "stream",
     "text": [
      "A Classic Education - NightOwl\n",
      "ANiMAL - Clinic A\n",
      "ANiMAL - Easy Tiger\n",
      "ANiMAL - Rockshow\n",
      "Actions - Devil's Words\n",
      "Actions - One Minute Smile\n",
      "Actions - South Of The Water\n",
      "Aimee Norwich - Child\n",
      "Alexander Ross - Goodbye Bolero\n",
      "Alexander Ross - Velvet Curtain\n",
      "Angela Thomas Wade - Milk Cow Blues\n",
      "Atlantis Bound - It Was My Fault For Waiting\n",
      "Auctioneer - Our Future Faces\n",
      "AvaLuna - Waterduct\n",
      "BigTroubles - Phantom\n",
      "Bill Chudziak - Children Of No-one\n",
      "Black Bloc - If You Want Success\n",
      "Celestial Shore - Die For Us\n",
      "Chris Durban - Celebrate\n",
      "Clara Berry And Wooldog - Air Traffic\n",
      "Clara Berry And Wooldog - Stella\n",
      "Clara Berry And Wooldog - Waltz For My Victims\n",
      "Cnoc An Tursa - Bannockburn\n",
      "Creepoid - OldTree\n",
      "Dark Ride - Burning Bridges\n",
      "Dreamers Of The Ghetto - Heavy Love\n",
      "Drumtracks - Ghost Bitch\n",
      "Faces On Film - Waiting For Ga\n",
      "Fergessen - Back From The Start\n",
      "Fergessen - Nos Palpitants\n",
      "Fergessen - The Wind\n",
      "Flags - 54\n",
      "Giselle - Moss\n",
      "Grants - PunchDrunk\n",
      "Helado Negro - Mitad Del Mundo\n",
      "Hezekiah Jones - Borrowed Heart\n",
      "Hollow Ground - Left Blind\n",
      "Hop Along - Sister Cities\n",
      "Invisible Familiars - Disturbing Wildlife\n",
      "James May - All Souls Moon\n",
      "James May - Dont Let Go\n",
      "James May - If You Say\n",
      "James May - On The Line\n",
      "Jay Menon - Through My Eyes\n",
      "Johnny Lokke - Promises & Lies\n",
      "Johnny Lokke - Whisper To A Scream\n",
      "Jokers, Jacks & Kings - Sea Of Leaves\n",
      "Leaf - Come Around\n",
      "Leaf - Summerghost\n",
      "Leaf - Wicked\n",
      "Lushlife - Toynbee Suite\n",
      "Matthew Entwistle - Dont You Ever\n",
      "Meaxic - Take A Step\n",
      "Meaxic - You Listen\n",
      "Music Delta - 80s Rock\n",
      "Music Delta - Beatles\n",
      "Music Delta - Britpop\n",
      "Music Delta - Country1\n",
      "Music Delta - Country2\n",
      "Music Delta - Disco\n",
      "Music Delta - Gospel\n",
      "Music Delta - Grunge\n",
      "Music Delta - Hendrix\n",
      "Music Delta - Punk\n",
      "Music Delta - Reggae\n",
      "Music Delta - Rock\n",
      "Music Delta - Rockabilly\n",
      "Night Panther - Fire\n",
      "North To Alaska - All The Same\n",
      "Patrick Talbot - A Reason To Leave\n",
      "Patrick Talbot - Set Me Free\n",
      "Phre The Eon - Everybody's Falling Apart\n",
      "Port St Willow - Stay Even\n",
      "Remember December - C U Next Time\n",
      "Secret Mountains - High Horse\n",
      "Skelpolu - Human Mistakes\n",
      "Skelpolu - Together Alone\n",
      "Snowmine - Curfews\n",
      "Spike Mullings - Mike's Sulking\n",
      "St Vitus - Word Gets Around\n",
      "Steven Clark - Bounty\n",
      "Strand Of Oaks - Spacestation\n",
      "Sweet Lights - You Let Me Down\n",
      "Swinging Steaks - Lost My Way\n",
      "The Districts - Vermont\n",
      "The Long Wait - Back Home To Blue\n",
      "The Scarlet Brand - Les Fleurs Du Mal\n",
      "The So So Glos - Emergency\n",
      "The Wrong'Uns - Rothko\n",
      "Tim Taler - Stalker\n",
      "Titanium - Haunted Age\n",
      "Traffic Experiment - Once More (With Feeling)\n",
      "Traffic Experiment - Sirens\n",
      "Triviul - Angelsaint\n",
      "Triviul - Dorothy\n",
      "Voelund - Comfort Lives In Belief\n",
      "Wall Of Death - Femme\n",
      "Young Griffo - Blood To Bone\n",
      "Young Griffo - Facade\n",
      "Young Griffo - Pennies\n",
      "100\n"
     ]
    }
   ],
   "execution_count": 16
  },
  {
   "metadata": {},
   "cell_type": "code",
   "outputs": [],
   "execution_count": null,
   "source": "",
   "id": "9daee33ed367b4b4"
  }
 ],
 "metadata": {
  "kernelspec": {
   "display_name": "Python 3",
   "language": "python",
   "name": "python3"
  },
  "language_info": {
   "codemirror_mode": {
    "name": "ipython",
    "version": 2
   },
   "file_extension": ".py",
   "mimetype": "text/x-python",
   "name": "python",
   "nbconvert_exporter": "python",
   "pygments_lexer": "ipython2",
   "version": "2.7.6"
  }
 },
 "nbformat": 4,
 "nbformat_minor": 5
}
